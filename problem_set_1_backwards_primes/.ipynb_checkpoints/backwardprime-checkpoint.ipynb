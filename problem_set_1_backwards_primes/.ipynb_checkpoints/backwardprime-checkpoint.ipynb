{
 "cells": [
  {
   "cell_type": "code",
   "execution_count": 1,
   "metadata": {},
   "outputs": [],
   "source": [
    "'''Importing existing Packages'''\n",
    "'''May need to ! pip install these'''\n",
    "import pandas as pd\n",
    "from pandas import DataFrame\n",
    "import numpy as np "
   ]
  },
  {
   "cell_type": "code",
   "execution_count": 2,
   "metadata": {},
   "outputs": [
    {
     "name": "stdout",
     "output_type": "stream",
     "text": [
      "Please Enter Lower Bound Number (integer):     2\n",
      "Please Enter Upper Bound Number (integer):     1700\n"
     ]
    }
   ],
   "source": [
    "prime_list = []\n",
    "\n",
    "Low_Number = input('Please Enter Lower Bound Number (integer):     ')\n",
    "High_Number = input('Please Enter Upper Bound Number (integer):     ')\n",
    "\n",
    "low_number = int(Low_Number)\n",
    "high_number = int(High_Number)\n",
    "\n",
    "'''Make sure both are above 2'''\n",
    "while low_number < 2 or high_number < 2:\n",
    "    print(\"Both must be above 2!\")\n",
    "    Low_Number = input('Please Enter Lower Bound Number (integer)')\n",
    "    High_Number = input('Please Enter Upper Bound Number (integer)')\n",
    "    \n",
    "    low_number = int(Low_Number)\n",
    "    high_number = int(High_Number)\n",
    "\n",
    "'''Make sure the low numberis smaller than high number'''\n",
    "while high_number <= low_number:\n",
    "    print(\"Nice Try... Almost got me!\")\n",
    "    Low_Number = input('Please Enter Lower Bound Number (integer)')\n",
    "    High_Number = input('Please Enter Upper Bound Number (integer)')\n",
    "    \n",
    "    low_number = int(Low_Number)\n",
    "    high_number = int(High_Number)\n",
    "    \n",
    "\n",
    "    "
   ]
  },
  {
   "cell_type": "code",
   "execution_count": 3,
   "metadata": {},
   "outputs": [
    {
     "name": "stdout",
     "output_type": "stream",
     "text": [
      "[2, 3, 5, 7, 11, 13, 17, 19, 23, 29, 31, 37, 41, 43, 47, 53, 59, 61, 67, 71, 73, 79, 83, 89, 97, 101, 103, 107, 109, 113, 127, 131, 137, 139, 149, 151, 157, 163, 167, 173, 179, 181, 191, 193, 197, 199, 211, 223, 227, 229, 233, 239, 241, 251, 257, 263, 269, 271, 277, 281, 283, 293, 307, 311, 313, 317, 331, 337, 347, 349, 353, 359, 367, 373, 379, 383, 389, 397, 401, 409, 419, 421, 431, 433, 439, 443, 449, 457, 461, 463, 467, 479, 487, 491, 499, 503, 509, 521, 523, 541, 547, 557, 563, 569, 571, 577, 587, 593, 599, 601, 607, 613, 617, 619, 631, 641, 643, 647, 653, 659, 661, 673, 677, 683, 691, 701, 709, 719, 727, 733, 739, 743, 751, 757, 761, 769, 773, 787, 797, 809, 811, 821, 823, 827, 829, 839, 853, 857, 859, 863, 877, 881, 883, 887, 907, 911, 919, 929, 937, 941, 947, 953, 967, 971, 977, 983, 991, 997, 1009, 1013, 1019, 1021, 1031, 1033, 1039, 1049, 1051, 1061, 1063, 1069, 1087, 1091, 1093, 1097, 1103, 1109, 1117, 1123, 1129, 1151, 1153, 1163, 1171, 1181, 1187, 1193, 1201, 1213, 1217, 1223, 1229, 1231, 1237, 1249, 1259, 1277, 1279, 1283, 1289, 1291, 1297, 1301, 1303, 1307, 1319, 1321, 1327, 1361, 1367, 1373, 1381, 1399, 1409, 1423, 1427, 1429, 1433, 1439, 1447, 1451, 1453, 1459, 1471, 1481, 1483, 1487, 1489, 1493, 1499, 1511, 1523, 1531, 1543, 1549, 1553, 1559, 1567, 1571, 1579, 1583, 1597, 1601, 1607, 1609, 1613, 1619, 1621, 1627, 1637, 1657, 1663, 1667, 1669, 1693, 1697, 1699]\n"
     ]
    }
   ],
   "source": [
    "prime_list = []\n",
    "\n",
    "for i in range(low_number,high_number):\n",
    "    '''I am going to manually count factors'''\n",
    "    '''Idea here is using the % operator to find factors'''\n",
    "    '''If found I will add number of factors... primes have no factors'''\n",
    "    non_prime_factors = 0\n",
    "    \n",
    "    for j in range(2, i):\n",
    "        if i % j == 0:\n",
    "                non_prime_factors = non_prime_factors + 1\n",
    "                \n",
    "    '''Those that survive the test get added to the prime list'''            \n",
    "    if non_prime_factors == 0:\n",
    "        prime_list.append(i)\n",
    "    '''Continue just pushes us to the next in the for-loop, here the next i'''\n",
    "    if non_prime_factors != 0:\n",
    "        continue\n",
    "    \n",
    "print(prime_list)"
   ]
  },
  {
   "cell_type": "code",
   "execution_count": 4,
   "metadata": {
    "scrolled": false
   },
   "outputs": [
    {
     "name": "stdout",
     "output_type": "stream",
     "text": [
      "[2, 3, 5, 7, 11, 31, 71, 91, 32, 92, 13, 73, 14, 34, 74, 35, 95, 16, 76, 17, 37, 97, 38, 98, 79, 101, 301, 701, 901, 311, 721, 131, 731, 931, 941, 151, 751, 361, 761, 371, 971, 181, 191, 391, 791, 991, 112, 322, 722, 922, 332, 932, 142, 152, 752, 362, 962, 172, 772, 182, 382, 392, 703, 113, 313, 713, 133, 733, 743, 943, 353, 953, 763, 373, 973, 383, 983, 793, 104, 904, 914, 124, 134, 334, 934, 344, 944, 754, 164, 364, 764, 974, 784, 194, 994, 305, 905, 125, 325, 145, 745, 755, 365, 965, 175, 775, 785, 395, 995, 106, 706, 316, 716, 916, 136, 146, 346, 746, 356, 956, 166, 376, 776, 386, 196, 107, 907, 917, 727, 337, 937, 347, 157, 757, 167, 967, 377, 787, 797, 908, 118, 128, 328, 728, 928, 938, 358, 758, 958, 368, 778, 188, 388, 788, 709, 119, 919, 929, 739, 149, 749, 359, 769, 179, 779, 389, 199, 799, 9001, 3101, 9101, 1201, 1301, 3301, 9301, 9401, 1501, 1601, 3601, 9601, 7801, 1901, 3901, 7901, 3011, 9011, 7111, 3211, 9211, 1511, 3511, 3611, 1711, 1811, 7811, 3911, 1021, 3121, 7121, 3221, 9221, 1321, 7321, 9421, 9521, 7721, 9721, 3821, 9821, 1921, 7921, 1031, 3031, 7031, 9131, 1231, 7231, 1631, 7631, 3731, 1831, 9931, 9041, 3241, 7241, 9241, 3341, 9341, 7441, 1541, 3541, 9541, 1741, 1841, 3841, 7841, 9841, 3941, 9941, 1151, 3251, 1351, 3451, 9451, 3551, 9551, 7651, 1751, 9751, 3851, 7951, 1061, 7061, 9061, 3161, 9161, 1261, 7261, 7361, 7561, 3661, 7661, 9661, 3961, 7961, 9961]\n"
     ]
    }
   ],
   "source": [
    "backwards_prime_list = [] \n",
    "for n in prime_list:\n",
    "    # Get the number from user manually \n",
    "    working_prime = n\n",
    "\n",
    "    # Initiate value to null\n",
    "    running = 0\n",
    "\n",
    "    '''Check using while loop'''\n",
    "\n",
    "    while(working_prime>0):\n",
    "        #Logic\n",
    "        remainder = working_prime % 10\n",
    "        running = (running * 10) + remainder\n",
    "        working_prime = working_prime//10\n",
    "    '''print it'''\n",
    "    backwards_prime_list.append(running)\n",
    "print(backwards_prime_list)\n",
    "\n",
    "'''Count How Many In List... Will be Useful Later!'''\n",
    "listcount = len(backwards_prime_list)"
   ]
  },
  {
   "cell_type": "code",
   "execution_count": 5,
   "metadata": {},
   "outputs": [
    {
     "name": "stdout",
     "output_type": "stream",
     "text": [
      "[13, 17, 31, 37, 71, 73, 79, 97, 107, 113, 149, 157, 167, 179, 199, 311, 337, 347, 359, 389, 701, 709, 733, 739, 743, 751, 761, 769, 907, 937, 941, 953, 967, 971, 983, 991, 1009, 1021, 1031, 1033, 1061, 1069, 1091, 1097, 1103, 1109, 1151, 1153, 1181, 1193, 1201, 1213, 1217, 1223, 1229, 1231, 1237, 1249, 1259, 1279, 1283, 1301, 1321, 1381, 1399, 1409, 1429, 1439, 1453, 1471, 1487, 1499, 1511, 1523, 1559, 1583, 1597, 1601, 1619, 1657, 1669]\n"
     ]
    }
   ],
   "source": [
    "final_list = []\n",
    "\n",
    "'''Loop through list by index, will help us compare'''\n",
    "for i in range(1,listcount):\n",
    "    \n",
    "    '''Helps us ignore palindromes'''\n",
    "    if prime_list[i] == backwards_prime_list[i]:\n",
    "        continue\n",
    "    \n",
    "    '''Factor Counting Strategy From Before'''\n",
    "    factors = 0\n",
    "    \n",
    "    for j in range(2, backwards_prime_list[i]):\n",
    "        if backwards_prime_list[i] % j == 0:\n",
    "                factors = factors + 1\n",
    "                \n",
    "    if factors == 0:\n",
    "        final_list.append(prime_list[i])\n",
    "print(final_list)"
   ]
  },
  {
   "cell_type": "code",
   "execution_count": 45,
   "metadata": {},
   "outputs": [],
   "source": [
    "\n",
    "'''\n",
    "ALTERNATIVE WAY:\n",
    "we can define functions first\n",
    "\n",
    "\n",
    "\n",
    "'''\n",
    "\n",
    "\n",
    "def findprime(L,H):\n",
    "    prime_list = []\n",
    "\n",
    "    for i in range(L,H):\n",
    "        '''I am going to manually count factors'''\n",
    "        '''Idea here is using the % operator to find factors'''\n",
    "        '''If found I will add number of factors... primes have no factors'''\n",
    "        non_prime_factors = 0\n",
    "\n",
    "        for j in range(2, i):\n",
    "            if i % j == 0:\n",
    "                    non_prime_factors = non_prime_factors + 1\n",
    "\n",
    "        '''Those that survive the test get added to the prime list'''            \n",
    "        if non_prime_factors == 0:\n",
    "            prime_list.append(i)\n",
    "        '''Continue just pushes us to the next in the for-loop, here the next i'''\n",
    "        if non_prime_factors != 0:\n",
    "            continue\n",
    "    return prime_list\n",
    "\n",
    "def numberreverse(x):\n",
    "    backwards_prime_list = []\n",
    "    '''Takes in a list'''\n",
    "    for n in x:\n",
    "        # Get the number from user manually \n",
    "        working_prime = n\n",
    "\n",
    "        # Initiate value to null\n",
    "        running = 0\n",
    "\n",
    "        '''Check using while loop'''\n",
    "\n",
    "        while(working_prime>0):\n",
    "            #Logic\n",
    "            remainder = working_prime % 10\n",
    "            running = (running * 10) + remainder\n",
    "            working_prime = working_prime//10\n",
    "        '''print it'''\n",
    "        backwards_prime_list.append(running)\n",
    "    return backwards_prime_list\n",
    "\n"
   ]
  },
  {
   "cell_type": "code",
   "execution_count": 47,
   "metadata": {},
   "outputs": [],
   "source": [
    "def backwardsprimes(low,high):\n",
    "    forward_list = findprime(low,high)\n",
    "    backward_list = numberreverse(forward_list)\n",
    "    final_list = []\n",
    "    \n",
    "    listcount = len(backward_list)\n",
    "    \n",
    "    '''Loop through list by index, will help us compare'''\n",
    "    for i in range(1,listcount):\n",
    "\n",
    "        '''Helps us ignore palindromes'''\n",
    "        if forward_list[i] == backward_list[i]:\n",
    "            continue\n",
    "\n",
    "        '''Factor Counting Strategy From Before'''\n",
    "        factors = 0\n",
    "\n",
    "        for j in range(2, backward_list[i]):\n",
    "            if backward_list[i] % j == 0:\n",
    "                    factors = factors + 1\n",
    "\n",
    "        if factors == 0:\n",
    "            final_list.append(forward_list[i])\n",
    "    return final_list\n"
   ]
  },
  {
   "cell_type": "code",
   "execution_count": 48,
   "metadata": {},
   "outputs": [
    {
     "name": "stdout",
     "output_type": "stream",
     "text": [
      "[13, 17, 31, 37, 71, 73, 79, 97]\n"
     ]
    }
   ],
   "source": [
    "answer = backwardsprimes(2,100)\n",
    "print(answer)"
   ]
  }
 ],
 "metadata": {
  "kernelspec": {
   "display_name": "Python 3",
   "language": "python",
   "name": "python3"
  },
  "language_info": {
   "codemirror_mode": {
    "name": "ipython",
    "version": 3
   },
   "file_extension": ".py",
   "mimetype": "text/x-python",
   "name": "python",
   "nbconvert_exporter": "python",
   "pygments_lexer": "ipython3",
   "version": "3.7.4"
  }
 },
 "nbformat": 4,
 "nbformat_minor": 2
}
